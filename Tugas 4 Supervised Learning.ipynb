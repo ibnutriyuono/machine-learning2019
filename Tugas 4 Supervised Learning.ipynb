{
 "cells": [
  {
   "cell_type": "code",
   "execution_count": 31,
   "metadata": {},
   "outputs": [],
   "source": [
    "import numpy as np\n",
    "import pandas as pd\n",
    "import math\n",
    "from matplotlib import pyplot as plt"
   ]
  },
  {
   "cell_type": "code",
   "execution_count": 281,
   "metadata": {},
   "outputs": [],
   "source": [
    "def euclidean(array1,array2,array3,b1,b2):\n",
    "    arrayjarak = []\n",
    "    for i in range(len(array1)):\n",
    "        jarak = int(np.round(np.square(np.sqrt((array1[i]-b1)**2+(array2[i]-b2)**2))))\n",
    "        arrayjarak.append(jarak)\n",
    "    return array1,array2,array3,arrayjarak"
   ]
  },
  {
   "cell_type": "code",
   "execution_count": 282,
   "metadata": {},
   "outputs": [
    {
     "data": {
      "text/plain": [
       "([8, 4, 4, 7, 5, 6],\n",
       " [4, 5, 6, 7, 6, 5],\n",
       " ['Bagus', 'Tidak Bagus', 'Tidak Bagus', 'Bagus', 'Tidak Bagus', 'Bagus'],\n",
       " [1, 10, 13, 9, 8, 2])"
      ]
     },
     "execution_count": 282,
     "metadata": {},
     "output_type": "execute_result"
    }
   ],
   "source": [
    "array1 = [8,4,4,7,5,6]\n",
    "array2 = [4,5,6,7,6,5]\n",
    "array3 = [\"Bagus\", \"Tidak Bagus\", \"Tidak Bagus\", \"Bagus\", \"Tidak Bagus\", \"Bagus\"]\n",
    "euclidean(array1,array2,array3,7,4)"
   ]
  },
  {
   "cell_type": "code",
   "execution_count": 284,
   "metadata": {},
   "outputs": [],
   "source": [
    "data = np.array(euclidean(array1,array2,array3,7,4))"
   ]
  },
  {
   "cell_type": "code",
   "execution_count": 289,
   "metadata": {},
   "outputs": [
    {
     "data": {
      "text/html": [
       "<div>\n",
       "<style scoped>\n",
       "    .dataframe tbody tr th:only-of-type {\n",
       "        vertical-align: middle;\n",
       "    }\n",
       "\n",
       "    .dataframe tbody tr th {\n",
       "        vertical-align: top;\n",
       "    }\n",
       "\n",
       "    .dataframe thead th {\n",
       "        text-align: right;\n",
       "    }\n",
       "</style>\n",
       "<table border=\"1\" class=\"dataframe\">\n",
       "  <thead>\n",
       "    <tr style=\"text-align: right;\">\n",
       "      <th></th>\n",
       "      <th>Daya Tahan Terhadap Asam (detik)</th>\n",
       "      <th>Kekuatan (kg/m2)</th>\n",
       "      <th>Class</th>\n",
       "      <th>Jarak ke data uji (X1=7,X2=4)</th>\n",
       "    </tr>\n",
       "  </thead>\n",
       "  <tbody>\n",
       "    <tr>\n",
       "      <td>0</td>\n",
       "      <td>8</td>\n",
       "      <td>4</td>\n",
       "      <td>Bagus</td>\n",
       "      <td>1</td>\n",
       "    </tr>\n",
       "    <tr>\n",
       "      <td>1</td>\n",
       "      <td>4</td>\n",
       "      <td>5</td>\n",
       "      <td>Tidak Bagus</td>\n",
       "      <td>10</td>\n",
       "    </tr>\n",
       "    <tr>\n",
       "      <td>2</td>\n",
       "      <td>4</td>\n",
       "      <td>6</td>\n",
       "      <td>Tidak Bagus</td>\n",
       "      <td>13</td>\n",
       "    </tr>\n",
       "    <tr>\n",
       "      <td>5</td>\n",
       "      <td>6</td>\n",
       "      <td>5</td>\n",
       "      <td>Bagus</td>\n",
       "      <td>2</td>\n",
       "    </tr>\n",
       "    <tr>\n",
       "      <td>4</td>\n",
       "      <td>5</td>\n",
       "      <td>6</td>\n",
       "      <td>Tidak Bagus</td>\n",
       "      <td>8</td>\n",
       "    </tr>\n",
       "    <tr>\n",
       "      <td>3</td>\n",
       "      <td>7</td>\n",
       "      <td>7</td>\n",
       "      <td>Bagus</td>\n",
       "      <td>9</td>\n",
       "    </tr>\n",
       "  </tbody>\n",
       "</table>\n",
       "</div>"
      ],
      "text/plain": [
       "  Daya Tahan Terhadap Asam (detik) Kekuatan (kg/m2)        Class  \\\n",
       "0                                8                4        Bagus   \n",
       "1                                4                5  Tidak Bagus   \n",
       "2                                4                6  Tidak Bagus   \n",
       "5                                6                5        Bagus   \n",
       "4                                5                6  Tidak Bagus   \n",
       "3                                7                7        Bagus   \n",
       "\n",
       "  Jarak ke data uji (X1=7,X2=4)  \n",
       "0                             1  \n",
       "1                            10  \n",
       "2                            13  \n",
       "5                             2  \n",
       "4                             8  \n",
       "3                             9  "
      ]
     },
     "execution_count": 289,
     "metadata": {},
     "output_type": "execute_result"
    }
   ],
   "source": [
    "df = pd.DataFrame({\"Daya Tahan Terhadap Asam (detik)\":data[0], \"Kekuatan (kg/m2)\":data[1],\"Class\":data[2],\"Jarak ke data uji (X1=7,X2=4)\":data[3]})\n",
    "df.sort_values(by='Jarak ke data uji (X1=7,X2=4)')"
   ]
  },
  {
   "cell_type": "code",
   "execution_count": 290,
   "metadata": {},
   "outputs": [
    {
     "data": {
      "text/html": [
       "<div>\n",
       "<style scoped>\n",
       "    .dataframe tbody tr th:only-of-type {\n",
       "        vertical-align: middle;\n",
       "    }\n",
       "\n",
       "    .dataframe tbody tr th {\n",
       "        vertical-align: top;\n",
       "    }\n",
       "\n",
       "    .dataframe thead th {\n",
       "        text-align: right;\n",
       "    }\n",
       "</style>\n",
       "<table border=\"1\" class=\"dataframe\">\n",
       "  <thead>\n",
       "    <tr style=\"text-align: right;\">\n",
       "      <th></th>\n",
       "      <th>Daya Tahan Terhadap Asam (detik)</th>\n",
       "      <th>Kekuatan (kg/m2)</th>\n",
       "      <th>Class</th>\n",
       "      <th>Jarak ke data uji (X1=7,X2=4)</th>\n",
       "    </tr>\n",
       "  </thead>\n",
       "  <tbody>\n",
       "    <tr>\n",
       "      <td>0</td>\n",
       "      <td>8</td>\n",
       "      <td>4</td>\n",
       "      <td>Bagus</td>\n",
       "      <td>1</td>\n",
       "    </tr>\n",
       "    <tr>\n",
       "      <td>1</td>\n",
       "      <td>4</td>\n",
       "      <td>5</td>\n",
       "      <td>Tidak Bagus</td>\n",
       "      <td>10</td>\n",
       "    </tr>\n",
       "    <tr>\n",
       "      <td>2</td>\n",
       "      <td>4</td>\n",
       "      <td>6</td>\n",
       "      <td>Tidak Bagus</td>\n",
       "      <td>13</td>\n",
       "    </tr>\n",
       "  </tbody>\n",
       "</table>\n",
       "</div>"
      ],
      "text/plain": [
       "  Daya Tahan Terhadap Asam (detik) Kekuatan (kg/m2)        Class  \\\n",
       "0                                8                4        Bagus   \n",
       "1                                4                5  Tidak Bagus   \n",
       "2                                4                6  Tidak Bagus   \n",
       "\n",
       "  Jarak ke data uji (X1=7,X2=4)  \n",
       "0                             1  \n",
       "1                            10  \n",
       "2                            13  "
      ]
     },
     "execution_count": 290,
     "metadata": {},
     "output_type": "execute_result"
    }
   ],
   "source": [
    "df.head(3)"
   ]
  },
  {
   "cell_type": "code",
   "execution_count": 292,
   "metadata": {},
   "outputs": [
    {
     "data": {
      "text/plain": [
       "0          Bagus\n",
       "1    Tidak Bagus\n",
       "2    Tidak Bagus\n",
       "Name: Class, dtype: object"
      ]
     },
     "execution_count": 292,
     "metadata": {},
     "output_type": "execute_result"
    }
   ],
   "source": [
    "df['Class'].head(3)"
   ]
  },
  {
   "cell_type": "code",
   "execution_count": null,
   "metadata": {},
   "outputs": [],
   "source": []
  }
 ],
 "metadata": {
  "kernelspec": {
   "display_name": "Python 3",
   "language": "python",
   "name": "python3"
  },
  "language_info": {
   "codemirror_mode": {
    "name": "ipython",
    "version": 3
   },
   "file_extension": ".py",
   "mimetype": "text/x-python",
   "name": "python",
   "nbconvert_exporter": "python",
   "pygments_lexer": "ipython3",
   "version": "3.7.4"
  }
 },
 "nbformat": 4,
 "nbformat_minor": 2
}
