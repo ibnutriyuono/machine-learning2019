{
 "cells": [
  {
   "cell_type": "markdown",
   "metadata": {},
   "source": [
    "# K Nearest Neighbor"
   ]
  },
  {
   "cell_type": "markdown",
   "metadata": {},
   "source": [
    "###  Load in dependencies"
   ]
  },
  {
   "cell_type": "code",
   "execution_count": 1,
   "metadata": {},
   "outputs": [],
   "source": [
    "import numpy as np\n",
    "import pandas as pd\n",
    "from matplotlib import pyplot as plt"
   ]
  },
  {
   "cell_type": "markdown",
   "metadata": {},
   "source": [
    "###  Euclidean Distance"
   ]
  },
  {
   "cell_type": "code",
   "execution_count": 2,
   "metadata": {},
   "outputs": [],
   "source": [
    "def euclidean(array1,array2,b1,b2):\n",
    "    arrayjarak = []\n",
    "    for i in range(len(array1)):\n",
    "        jarak = int(np.round(np.square(np.sqrt((array1[i]-b1)**2+(array2[i]-b2)**2))))\n",
    "        arrayjarak.append(jarak)\n",
    "    return arrayjarak"
   ]
  },
  {
   "cell_type": "markdown",
   "metadata": {},
   "source": [
    "###  K Nearset Neighbour"
   ]
  },
  {
   "cell_type": "code",
   "execution_count": 3,
   "metadata": {},
   "outputs": [],
   "source": [
    "def knearest(array1,array2,array3,b1,b2):\n",
    "    traindata = []\n",
    "    arrayjarak = euclidean(array1,array2,7,4)\n",
    "    traindata.append(array1)\n",
    "    traindata.append(array2)\n",
    "    traindata.append(array3)\n",
    "    traindata.append(arrayjarak)\n",
    "    return traindata"
   ]
  },
  {
   "cell_type": "code",
   "execution_count": 4,
   "metadata": {},
   "outputs": [],
   "source": [
    "dayaTahanAsam = [8,4,4,7,5,6]\n",
    "kekuatan = [4,5,6,7,6,5]\n",
    "klasifikasi = [\"Bagus\", \"Tidak Bagus\", \"Tidak Bagus\", \"Bagus\", \"Tidak Bagus\", \"Bagus\"]"
   ]
  },
  {
   "cell_type": "code",
   "execution_count": 5,
   "metadata": {},
   "outputs": [
    {
     "data": {
      "text/plain": [
       "[[8, 4, 4, 7, 5, 6],\n",
       " [4, 5, 6, 7, 6, 5],\n",
       " ['Bagus', 'Tidak Bagus', 'Tidak Bagus', 'Bagus', 'Tidak Bagus', 'Bagus'],\n",
       " [1, 10, 13, 9, 8, 2]]"
      ]
     },
     "execution_count": 5,
     "metadata": {},
     "output_type": "execute_result"
    }
   ],
   "source": [
    "knearest(dayaTahanAsam,kekuatan,klasifikasi,7,4)"
   ]
  },
  {
   "cell_type": "code",
   "execution_count": 6,
   "metadata": {},
   "outputs": [
    {
     "data": {
      "text/html": [
       "<div>\n",
       "<style scoped>\n",
       "    .dataframe tbody tr th:only-of-type {\n",
       "        vertical-align: middle;\n",
       "    }\n",
       "\n",
       "    .dataframe tbody tr th {\n",
       "        vertical-align: top;\n",
       "    }\n",
       "\n",
       "    .dataframe thead th {\n",
       "        text-align: right;\n",
       "    }\n",
       "</style>\n",
       "<table border=\"1\" class=\"dataframe\">\n",
       "  <thead>\n",
       "    <tr style=\"text-align: right;\">\n",
       "      <th></th>\n",
       "      <th>Daya Tahan Terhadap Asam (detik)</th>\n",
       "      <th>Kekuatan (kg/m2)</th>\n",
       "      <th>Class</th>\n",
       "      <th>Jarak ke data uji (X1=7,X2=4)</th>\n",
       "    </tr>\n",
       "  </thead>\n",
       "  <tbody>\n",
       "    <tr>\n",
       "      <td>0</td>\n",
       "      <td>8</td>\n",
       "      <td>4</td>\n",
       "      <td>Bagus</td>\n",
       "      <td>1</td>\n",
       "    </tr>\n",
       "    <tr>\n",
       "      <td>1</td>\n",
       "      <td>4</td>\n",
       "      <td>5</td>\n",
       "      <td>Tidak Bagus</td>\n",
       "      <td>10</td>\n",
       "    </tr>\n",
       "    <tr>\n",
       "      <td>2</td>\n",
       "      <td>4</td>\n",
       "      <td>6</td>\n",
       "      <td>Tidak Bagus</td>\n",
       "      <td>13</td>\n",
       "    </tr>\n",
       "    <tr>\n",
       "      <td>3</td>\n",
       "      <td>7</td>\n",
       "      <td>7</td>\n",
       "      <td>Bagus</td>\n",
       "      <td>9</td>\n",
       "    </tr>\n",
       "    <tr>\n",
       "      <td>4</td>\n",
       "      <td>5</td>\n",
       "      <td>6</td>\n",
       "      <td>Tidak Bagus</td>\n",
       "      <td>8</td>\n",
       "    </tr>\n",
       "    <tr>\n",
       "      <td>5</td>\n",
       "      <td>6</td>\n",
       "      <td>5</td>\n",
       "      <td>Bagus</td>\n",
       "      <td>2</td>\n",
       "    </tr>\n",
       "  </tbody>\n",
       "</table>\n",
       "</div>"
      ],
      "text/plain": [
       "   Daya Tahan Terhadap Asam (detik)  Kekuatan (kg/m2)        Class  \\\n",
       "0                                 8                 4        Bagus   \n",
       "1                                 4                 5  Tidak Bagus   \n",
       "2                                 4                 6  Tidak Bagus   \n",
       "3                                 7                 7        Bagus   \n",
       "4                                 5                 6  Tidak Bagus   \n",
       "5                                 6                 5        Bagus   \n",
       "\n",
       "   Jarak ke data uji (X1=7,X2=4)  \n",
       "0                              1  \n",
       "1                             10  \n",
       "2                             13  \n",
       "3                              9  \n",
       "4                              8  \n",
       "5                              2  "
      ]
     },
     "execution_count": 6,
     "metadata": {},
     "output_type": "execute_result"
    }
   ],
   "source": [
    "traindata = knearest(dayaTahanAsam,kekuatan,klasifikasi,7,4)\n",
    "df = pd.DataFrame({\"Daya Tahan Terhadap Asam (detik)\":traindata[0], \"Kekuatan (kg/m2)\":traindata[1],\"Class\":traindata[2],\"Jarak ke data uji (X1=7,X2=4)\":traindata[3]})\n",
    "df.sort_values(by='Jarak ke data uji (X1=7,X2=4)')\n",
    "df"
   ]
  },
  {
   "cell_type": "code",
   "execution_count": 7,
   "metadata": {},
   "outputs": [
    {
     "data": {
      "text/plain": [
       "array(['Bagus', 'Tidak Bagus', 'Tidak Bagus'], dtype=object)"
      ]
     },
     "execution_count": 7,
     "metadata": {},
     "output_type": "execute_result"
    }
   ],
   "source": [
    "df['Class'].head(3).values"
   ]
  },
  {
   "cell_type": "code",
   "execution_count": null,
   "metadata": {},
   "outputs": [],
   "source": []
  }
 ],
 "metadata": {
  "kernelspec": {
   "display_name": "Python 3",
   "language": "python",
   "name": "python3"
  },
  "language_info": {
   "codemirror_mode": {
    "name": "ipython",
    "version": 3
   },
   "file_extension": ".py",
   "mimetype": "text/x-python",
   "name": "python",
   "nbconvert_exporter": "python",
   "pygments_lexer": "ipython3",
   "version": "3.7.4"
  }
 },
 "nbformat": 4,
 "nbformat_minor": 2
}
