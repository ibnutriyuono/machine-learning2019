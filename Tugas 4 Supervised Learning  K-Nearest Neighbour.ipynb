{
 "cells": [
  {
   "cell_type": "markdown",
   "metadata": {},
   "source": [
    "# K Nearest Neighbor"
   ]
  },
  {
   "cell_type": "markdown",
   "metadata": {},
   "source": [
    "###  Load in dependencies"
   ]
  },
  {
   "cell_type": "code",
   "execution_count": 1,
   "metadata": {},
   "outputs": [],
   "source": [
    "import numpy as np\n",
    "import pandas as pd\n",
    "from matplotlib import pyplot as plt"
   ]
  },
  {
   "cell_type": "markdown",
   "metadata": {},
   "source": [
    "###  Euclidean Distance"
   ]
  },
  {
   "cell_type": "code",
   "execution_count": 2,
   "metadata": {},
   "outputs": [],
   "source": [
    "def euclidean(array1,array2,b1,b2):\n",
    "    arrayjarak = []\n",
    "    for i in range(len(array1)):\n",
    "        jarak = int(np.round(np.square(np.sqrt((array1[i]-b1)**2+(array2[i]-b2)**2))))\n",
    "        arrayjarak.append(jarak)\n",
    "    return arrayjarak"
   ]
  },
  {
   "cell_type": "markdown",
   "metadata": {},
   "source": [
    "###  K Nearset Neighbour"
   ]
  },
  {
   "cell_type": "code",
   "execution_count": 5,
   "metadata": {},
   "outputs": [],
   "source": [
    "def knearest(array1,array2,array3,b1,b2):\n",
    "    traindata = []\n",
    "    arrayjarak = euclidean(array1,array2,7,4)\n",
    "    traindata.append(array1)\n",
    "    traindata.append(array2)\n",
    "    traindata.append(array3)\n",
    "    traindata.append(arrayjarak)\n",
    "    return traindata"
   ]
  },
  {
   "cell_type": "code",
   "execution_count": 6,
   "metadata": {},
   "outputs": [
    {
     "ename": "NameError",
     "evalue": "name 'array1' is not defined",
     "output_type": "error",
     "traceback": [
      "\u001b[1;31m---------------------------------------------------------------------------\u001b[0m",
      "\u001b[1;31mNameError\u001b[0m                                 Traceback (most recent call last)",
      "\u001b[1;32m<ipython-input-6-dda878e87bc8>\u001b[0m in \u001b[0;36m<module>\u001b[1;34m\u001b[0m\n\u001b[1;32m----> 1\u001b[1;33m \u001b[0mknearest\u001b[0m\u001b[1;33m(\u001b[0m\u001b[0marray1\u001b[0m\u001b[1;33m,\u001b[0m\u001b[0marray2\u001b[0m\u001b[1;33m,\u001b[0m\u001b[0marray3\u001b[0m\u001b[1;33m,\u001b[0m\u001b[1;36m7\u001b[0m\u001b[1;33m,\u001b[0m\u001b[1;36m4\u001b[0m\u001b[1;33m)\u001b[0m\u001b[1;33m\u001b[0m\u001b[1;33m\u001b[0m\u001b[0m\n\u001b[0m",
      "\u001b[1;31mNameError\u001b[0m: name 'array1' is not defined"
     ]
    }
   ],
   "source": [
    "dayaTahanAsam = [8,4,4,7,5,6]\n",
    "kekuatan = [4,5,6,7,6,5]\n",
    "klasifikasi = [\"Bagus\", \"Tidak Bagus\", \"Tidak Bagus\", \"Bagus\", \"Tidak Bagus\", \"Bagus\"]\n",
    "knearest(dataTahanAsam,kekuatan,array3,7,4)"
   ]
  },
  {
   "cell_type": "code",
   "execution_count": null,
   "metadata": {},
   "outputs": [],
   "source": [
    "traindata = knearest(array1,array2,array3,7,4)\n",
    "df = pd.DataFrame({\"Daya Tahan Terhadap Asam (detik)\":traindata[0], \"Kekuatan (kg/m2)\":traindata[1],\"Class\":traindata[2],\"Jarak ke data uji (X1=7,X2=4)\":traindata[3]})\n",
    "df.sort_values(by='Jarak ke data uji (X1=7,X2=4)')\n",
    "df"
   ]
  },
  {
   "cell_type": "code",
   "execution_count": null,
   "metadata": {},
   "outputs": [],
   "source": [
    "df['Class'].head(3).values"
   ]
  },
  {
   "cell_type": "code",
   "execution_count": null,
   "metadata": {},
   "outputs": [],
   "source": []
  }
 ],
 "metadata": {
  "kernelspec": {
   "display_name": "Python 3",
   "language": "python",
   "name": "python3"
  },
  "language_info": {
   "codemirror_mode": {
    "name": "ipython",
    "version": 3
   },
   "file_extension": ".py",
   "mimetype": "text/x-python",
   "name": "python",
   "nbconvert_exporter": "python",
   "pygments_lexer": "ipython3",
   "version": "3.7.4"
  }
 },
 "nbformat": 4,
 "nbformat_minor": 2
}
